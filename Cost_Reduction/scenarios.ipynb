{
 "cells": [
  {
   "cell_type": "markdown",
   "id": "ee4fa393-2ded-480c-bbf0-547d0cc0ddac",
   "metadata": {},
   "source": [
    "<center><table>\n",
    "    <tr>\n",
    "        <th><img src=\"./INL1.png\",align=\"middle\",height=\"10000\"/></th>\n",
    "        <th><img src=\"./MIT1.png\",align=\"middle\",height=\"10\"\\></th>\n",
    "        <th><img src=\"./ANL.png\",align=\"middle\",height=\"10\"/></th>\n",
    "    </tr>\n",
    "</table>\n",
    "</center>"
   ]
  },
  {
   "attachments": {},
   "cell_type": "markdown",
   "id": "40096a23-ff7b-4541-b710-9f0a9f9a595d",
   "metadata": {},
   "source": [
    "# <center>Cost Reduction Framework for Nuclear Reactor Power Plants</center>"
   ]
  },
  {
   "cell_type": "markdown",
   "id": "f2256ae0-712f-4811-99d9-d37188782036",
   "metadata": {},
   "source": [
    "###  Importing the libraries"
   ]
  },
  {
   "cell_type": "code",
   "execution_count": 1,
   "id": "12fb6329-dc95-493f-ba1d-86235e71b512",
   "metadata": {},
   "outputs": [],
   "source": [
    "import pandas as pd\n",
    "import numpy as np\n",
    "\n",
    "import warnings\n",
    "warnings.simplefilter(action='ignore', category=FutureWarning)\n",
    "\n",
    "pd.set_option('display.max_rows', None)"
   ]
  },
  {
   "cell_type": "code",
   "execution_count": 2,
   "id": "54b734af",
   "metadata": {},
   "outputs": [
    {
     "name": "stdout",
     "output_type": "stream",
     "text": [
      "The current construction duration (months) =  99.0409507984412\n",
      "The final construction duration of the Concept A reactor is 100.08 months\n"
     ]
    }
   ],
   "source": [
    "# Just running the other jupyter notebook to bring all the functions from there\n",
    "%run CostReduction_exploration_mode.ipynb"
   ]
  },
  {
   "cell_type": "code",
   "execution_count": 3,
   "id": "1c0185bf",
   "metadata": {},
   "outputs": [],
   "source": [
    "# A function for the average results (averaged over all the reactors built)\n",
    "\n",
    "def calculate_final_result_avg(reactor_type, f_22, f_2321, land_cost_per_acre_0, RB_grade_0, BOP_grade_0,\\\n",
    "    num_orders, design_completion_0, ae_exp_0, N_AE, ce_exp_0, N_cons, mod_0, Design_Maturity_0, proc_exp_0, N_proc, standardization_0, interest_rate_0, startup_0):\n",
    "    \n",
    "    \n",
    "    OCC_list = []\n",
    "    TCI_list = [] \n",
    "    durations_list = []\n",
    "    \n",
    "    for n_th in range(1, num_orders+1):\n",
    "        results = calculate_final_result(reactor_type, n_th, f_22, f_2321, land_cost_per_acre_0, RB_grade_0, BOP_grade_0,\\\n",
    "        num_orders, design_completion_0, ae_exp_0, N_AE, ce_exp_0, N_cons, mod_0, Design_Maturity_0, proc_exp_0, N_proc, standardization_0, interest_rate_0, startup_0) \n",
    "        \n",
    "        OCC_result = results[1] # The ITC_reduced OCC (levelized)\n",
    "        TCI_result = results[2] # The ITC_reduced TCI(levelized)\n",
    "        duration_result = results[3] # cons duration\n",
    "        \n",
    "        OCC_list.append(OCC_result)\n",
    "        TCI_list.append( TCI_result )\n",
    "        durations_list.append( duration_result  )\n",
    "    last_plant_OCC = OCC_list[-1]\n",
    "    first_plant_OCC = OCC_list[0]\n",
    "    avg_OCC = np.mean(OCC_list)    \n",
    "    \n",
    "    last_plant_TCI = TCI_list[-1]\n",
    "    first_plant_TCI = TCI_list[0]\n",
    "    avg_TCI = np.mean(TCI_list)\n",
    "    \n",
    "    avg_dur = np.mean(durations_list)\n",
    "    \n",
    "    return last_plant_OCC , first_plant_OCC, avg_OCC,  last_plant_TCI , first_plant_TCI, avg_TCI, avg_dur "
   ]
  },
  {
   "cell_type": "markdown",
   "id": "517dc2d3",
   "metadata": {},
   "source": [
    "# Scenarios\n",
    "\n",
    "These scenarios correspond to the scenarios in the cost reduction [report](https://inldigitallibrary.inl.gov/sites/sti/sti/Sort_109810.pdf)\n",
    "\n",
    "See Table 10\n"
   ]
  },
  {
   "cell_type": "code",
   "execution_count": 21,
   "id": "6d749168",
   "metadata": {},
   "outputs": [
    {
     "name": "stdout",
     "output_type": "stream",
     "text": [
      "\n",
      "\n",
      "Scenario # 1\n",
      "Last plant ITC-reduced OCC is 3600 ($/kWe)\n",
      "First plant ITC-reduced OCC is 12800 ($/kWe)\n",
      "Average ITC-reduced OCC is 5000 ($/kWe)\n",
      "\n",
      "\n",
      "Last plant ITC-reduced TCI is 4200 ($/kWe)\n",
      "First plant ITC-reduced TCI is 19500 ($/kWe)\n",
      "Average plant ITC-reduced TCI is 6400 ($/kWe)\n",
      "\n",
      "\n",
      "Average Construction Duration is 77 months \n",
      "\n",
      "\n",
      "Scenario # 2\n",
      "Last plant ITC-reduced OCC is 3600 ($/kWe)\n",
      "First plant ITC-reduced OCC is 15900 ($/kWe)\n",
      "Average ITC-reduced OCC is 5000 ($/kWe)\n",
      "\n",
      "\n",
      "Last plant ITC-reduced TCI is 4200 ($/kWe)\n",
      "First plant ITC-reduced TCI is 25700 ($/kWe)\n",
      "Average plant ITC-reduced TCI is 6500 ($/kWe)\n",
      "\n",
      "\n",
      "Average Construction Duration is 77 months \n",
      "\n",
      "\n",
      "Scenario # 3\n",
      "Last plant ITC-reduced OCC is 3600 ($/kWe)\n",
      "First plant ITC-reduced OCC is 8000 ($/kWe)\n",
      "Average ITC-reduced OCC is 4100 ($/kWe)\n",
      "\n",
      "\n",
      "Last plant ITC-reduced TCI is 4200 ($/kWe)\n",
      "First plant ITC-reduced TCI is 14700 ($/kWe)\n",
      "Average plant ITC-reduced TCI is 5500 ($/kWe)\n",
      "\n",
      "\n",
      "Average Construction Duration is 77 months \n"
     ]
    }
   ],
   "source": [
    "reactor_type = \"Concept A\"\n",
    "\n",
    "# scenario independent params\n",
    "mod_0 = \"modularized\"\n",
    "BOP_grade_0 = \"non_nuclear\"\n",
    "RB_grade_0 = \"nuclear\"\n",
    "\n",
    "land_cost_per_acre_0 =  22000 # dollars/acre\n",
    "startup_0 = 16 \n",
    "interest_rate_0 = 0.06\n",
    "\n",
    "# numb er of projects for full efficiency of procurement, A/E, Construction\n",
    "N_proc = 3\n",
    "N_AE  =  4\n",
    "N_cons = 5\n",
    "\n",
    "# factory building cost (associated with accounts 22 and 232.1)\n",
    "f_22   = 250000000\n",
    "f_2321 = 150000000\n",
    "\n",
    "\n",
    "\n",
    "for scenario in [1, 2, 3 ]:\n",
    "    if scenario == 1:\n",
    "        num_orders = 13\n",
    "        design_completion_0 = 0.8 # 1 means 100%\n",
    "        Design_Maturity_0 = 1\n",
    "        proc_exp_0 = 0.5 #     \n",
    "        ae_exp_0 = 0.5\n",
    "        ce_exp_0 = 1\n",
    "        \n",
    "        standardization_0 = 0.8 # 0.7 corresponds to 70% standardization for PWRs\n",
    "        ITC_0 = 0 \n",
    "        n_ITC = 0\n",
    "\n",
    "    elif scenario == 2:\n",
    "        num_orders = 18\n",
    "        design_completion_0 = 0.6 # 1 means 100%\n",
    "        Design_Maturity_0 = 0\n",
    "        \n",
    "        proc_exp_0= 0 # 2 means procurement experts. This is ideal. \n",
    "        ae_exp_0 = 0\n",
    "        ce_exp_0 = 1\n",
    "        standardization_0 = 0.7 # 0.7 corresponds to 70% standardization for PWRs\n",
    "\n",
    "        ITC_0 = 0 \n",
    "        n_ITC = 0        \n",
    "        \n",
    "    elif scenario == 3:\n",
    "        num_orders = 13\n",
    "        design_completion_0 = 0.8 # 1 means 100%\n",
    "        Design_Maturity_0 = 1\n",
    "        \n",
    "        proc_exp_0= 0.5 # 2 means procurement experts. This is ideal. \n",
    "        ae_exp_0 = 0.5\n",
    "        ce_exp_0 = 1\n",
    "        standardization_0 = 0.8 # 0.7 corresponds to 70% standardization for PWRs\n",
    "        ITC_0 = 0.4\n",
    "        n_ITC = 4 \n",
    "     \n",
    "     \n",
    "    avg_results = calculate_final_result_avg(reactor_type, f_22, f_2321, land_cost_per_acre_0, RB_grade_0, BOP_grade_0,\\\n",
    "    num_orders, design_completion_0, ae_exp_0, N_AE, ce_exp_0, N_cons, mod_0, Design_Maturity_0, proc_exp_0, N_proc, standardization_0, interest_rate_0, startup_0) \n",
    "    \n",
    "    \n",
    "    # return last_plant_OCC , first_plant_OCC, avg_OCC,  last_plant_TCI , first_plant_TCI, avg_TCI, avg_dur \n",
    "    print(\"\\n\")  \n",
    "    print(f\"Scenario # {scenario}\")\n",
    "    # note the results are rounded to the nearest hundred\n",
    "    print(f\"Last plant ITC-reduced OCC is {int(100*np.round (avg_results[0]/100, 0))} ($/kWe)\")\n",
    "    print(f\"First plant ITC-reduced OCC is {int(100*np.round (avg_results[1]/100, 0))} ($/kWe)\")\n",
    "    print(f\"Average ITC-reduced OCC is {int(100*np.round (avg_results[2]/100, 0))} ($/kWe)\")\n",
    "    print(\"\\n\")\n",
    "    print(f\"Last plant ITC-reduced TCI is {int(100*np.round (avg_results[3]/100, 0))} ($/kWe)\")\n",
    "    print(f\"First plant ITC-reduced TCI is {int(100*np.round (avg_results[4]/100, 0))} ($/kWe)\")\n",
    "    print(f\"Average plant ITC-reduced TCI is {int(100*np.round (avg_results[5]/100, 0))} ($/kWe)\")\n",
    "    print(\"\\n\")\n",
    "    print(f\"Average Construction Duration is {int(np.round(avg_results[6],0))} months \")\n"
   ]
  }
 ],
 "metadata": {
  "kernelspec": {
   "display_name": "Python 3 (ipykernel)",
   "language": "python",
   "name": "python3"
  },
  "language_info": {
   "codemirror_mode": {
    "name": "ipython",
    "version": 3
   },
   "file_extension": ".py",
   "mimetype": "text/x-python",
   "name": "python",
   "nbconvert_exporter": "python",
   "pygments_lexer": "ipython3",
   "version": "3.11.8"
  }
 },
 "nbformat": 4,
 "nbformat_minor": 5
}
